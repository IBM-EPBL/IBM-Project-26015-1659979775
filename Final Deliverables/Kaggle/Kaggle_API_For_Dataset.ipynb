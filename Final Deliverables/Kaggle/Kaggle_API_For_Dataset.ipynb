{
  "cells": [
    {
      "cell_type": "code",
      "execution_count": null,
      "metadata": {
        "id": "bs8dg0jUvzd9"
      },
      "outputs": [],
      "source": [
        "!pip install -q kaggle"
      ]
    },
    {
      "cell_type": "code",
      "execution_count": null,
      "metadata": {
        "id": "Fvsu6OyoxEcS"
      },
      "outputs": [],
      "source": [
        "!mkdir ~/.kaggle #create a kaggle direction"
      ]
    },
    {
      "cell_type": "code",
      "execution_count": null,
      "metadata": {
        "id": "W-uE5sFOxPEC"
      },
      "outputs": [],
      "source": [
        "!cp kaggle.json ~/.kaggle/ #copying json file to folder"
      ]
    },
    {
      "cell_type": "code",
      "execution_count": null,
      "metadata": {
        "id": "xZrjQQKyxVdE"
      },
      "outputs": [],
      "source": [
        "!chmod 600 ~/.kaggle/kaggle.json #changing the permission to json"
      ]
    },
    {
      "cell_type": "code",
      "execution_count": null,
      "metadata": {
        "colab": {
          "base_uri": "https://localhost:8080/"
        },
        "id": "UsH15iN0xcsc",
        "outputId": "260cc91a-3479-4917-b93d-6578271efaa1"
      },
      "outputs": [
        {
          "name": "stdout",
          "output_type": "stream",
          "text": [
            "Downloading employee-attrition.zip to /content\n",
            "\r  0% 0.00/120k [00:00<?, ?B/s]\n",
            "\r100% 120k/120k [00:00<00:00, 69.5MB/s]\n"
          ]
        }
      ],
      "source": [
        "!kaggle datasets download -d naganathan001/employee-attrition"
      ]
    },
    {
      "cell_type": "code",
      "execution_count": null,
      "metadata": {
        "colab": {
          "base_uri": "https://localhost:8080/"
        },
        "id": "7SYbyRCpzzVQ",
        "outputId": "9b6b6374-4b0f-417b-dbfc-512baa25876c"
      },
      "outputs": [
        {
          "name": "stdout",
          "output_type": "stream",
          "text": [
            "Archive:  /content/employee-attrition.zip\n",
            "  inflating: employee_survey_data.csv  \n",
            "  inflating: general_data.csv        \n",
            "  inflating: manager_survey_data.csv  \n"
          ]
        }
      ],
      "source": [
        "!unzip /content/employee-attrition.zip"
      ]
    }
  ],
  "metadata": {
    "colab": {
      "collapsed_sections": [],
      "provenance": []
    },
    "kernelspec": {
      "display_name": "Python 3.10.5 64-bit",
      "language": "python",
      "name": "python3"
    },
    "language_info": {
      "name": "python",
      "version": "3.10.5"
    },
    "vscode": {
      "interpreter": {
        "hash": "d6d3fe9d2231b026801babd7b0aa3f4f39a5483dd5a7ee439c704280d20e91ec"
      }
    }
  },
  "nbformat": 4,
  "nbformat_minor": 0
}
